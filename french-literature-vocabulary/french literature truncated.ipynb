{
 "cells": [
  {
   "cell_type": "markdown",
   "metadata": {},
   "source": [
    "<h1 align='center'>Vocabulary for French Literature: A Systematic Approach</h1>"
   ]
  },
  {
   "cell_type": "markdown",
   "metadata": {},
   "source": [
    "<h2>Contents</h2>\n",
    "<ol>\n",
    "    <li><a href='#intro'>Introduction</a></li>\n",
    "    <li><a href='#source'>Data Source and Text Extraction</a></li>\n",
    "    <li><a href='#clean'>Text Cleaning</a></li>\n",
    "    <li><a href='#stats'>Descriptive Statistics</a></li>\n",
    "    <li><a href='#common'>Most Common Words</a></li>\n",
    "    <li><a href='#corpus'>The Entire Corpus</a></li>\n",
    "    <li><a href='#saving'>Saving Your Results</a></li>\n",
    "</ol>"
   ]
  },
  {
   "cell_type": "markdown",
   "metadata": {},
   "source": [
    "<a id='intro'></a><h2>Introduction</h2>\n",
    "\n",
    "Suppose you have been learning French and you feel ready to work your way through a reading list of French literature in French.  For our purposes here, suppose this list consists of:\n",
    "<ul>\n",
    "    <li><i>Candide, ou, l'optimisme</i> by Voltaire (1759, 129 pgs.)</li>\n",
    "    <li><i>Du côté de chez Swann</i> by Marcel Proust (1913, 444 pgs.)</li>\n",
    "    <li><i>Jean Barois</i> by Roger Martin du Gard (1913, 500 pgs.)</li>\n",
    "    <li><i>Jean-Christophe Volume 1</i> by Romain Rolland  (1905, 556 pgs.)</li>\n",
    "    <li><i>Madame Bovary</i> by Gustave Flaubert  (1857, 329 pgs.) </li>\n",
    "    <li><i>Notre-Dame de Paris</i> by Victor Hugo  (1831, 510 pgs.) </li>\n",
    "    <li><i>Thaïs</i> by Anatole France (1890, 175 pgs.)</li>\n",
    "    <li><i>Une vie</i> by Guy de Maupassant   (1883, 299 pgs.)</li>\n",
    "</ul>\n",
    "\n",
    "There will be a good amount to keep track of as you do so, e.g., cultural criticism, literary allusions, plot and themes, formality of language.  As such, to make your project a little smoother you decide to do some preparatory work and ensure that gaps in your vocabulary are minimized going in.  Then the question becomes, which words should you learn?  There are 4,291 pages in your reading list; you certainly can't learn every single word or you won't start reading for quite some time.  So, we need a method to approach such a task.\n",
    "\n",
    "One idea would be to find a frequency list online and ensure that you have all of the most common words down pat.  But, if you look through a source like the <a href='https://en.wiktionary.org/wiki/Wiktionary:French_frequency_lists/1-2000' target='_blank'>Wiktionary</a> list, you will notice there are a substantial number of business, economic, and political terms.  I assume a large percentage of their corpus is comprised of newspaper articles, which is certainly useful if we wanted to read the archives of Le Monde, but won't be so helpful for the literature at hand.\n",
    "\n",
    "Another idea would be to just pick up one of the texts, start at page one or pick a page at random, and just start writing down every word that you don't know.  Maybe you could make this slightly less mindnumbing by only keeping words that you find interesting.  But how does one measure the utility of a word?  \"Cartilage\", for example, is a useful word that is rather difficult to approximate with other language.  Yet, if it only occurs once in the 4,000 pages ahead of us, then taking the time to commit it to memory is done at the expense of another word that may occur 20 times across our texts.  So while exploring the language by following our curiosity seems fun and enriching, the intrinsic opportunity cost makes it less than ideal for efficiency within this particular project.\n",
    "\n",
    "Hence, let's let the texts themselves dictate which words we need to know in order to work through them.  To do so, we will find the most common words (and look at some descriptive statistics to better define their utility) that occur within each individual text and across the entire corpus we have established for this project.\n",
    "\n",
    "Ultimately, we will identify a subset of each text's vocabulary that provides at least 90% coverage of the text, specifically the subset of words that are used more than once.  Note that this does not imply that we will have 90% understanding of the text.  Many of the single-use words carry a disproportionate share of the meaning-passing within a sentence.  For example, a character might say, \"Go to the grocery store and pick up some \\_\\_\\_\\_\\_\\_\\_.\"  Certainly what is contained in that blank carries a substantial portion of the overall meaning.  However, our current work aims to establish enough understanding of the bulk of the text so that our example sentence doesn't appear to us as \"\\_\\_\\_ to the \\_\\_\\_\\_\\_\\_ and \\_\\_\\_\\_\\_ some \\_\\_\\_\\_\\_\\_\\_.\"  That is, the reading process will certainly be smoother if we only have to look up the occassional individual word to really understand a sentence, and we may occassionally get lucky and be able to infer the meaning using our more robust context.\n",
    "\n",
    "Note: in the work below, I have decided to not utilize some common language parsing techniques that generally make the results more succinct.  A few of these are worth drawing attention to.  First, I do not combine verb clusters into one entry.  The verb \"to be\" has many conjugations across many different tenses, but we leave each of these as separate instances.  For example, 'be', 'am', 'are', 'being', and 'been' would occur as distinct items. Second, I will leave singular and plural instances as distinct entries.  For example, 'apple' and 'apples' would be separate entries.  Finally, I am not going to remove any words from the text and, specifically, this will result in proper nouns being retained.  I expect that we will find character names and places quite high in the final rankings.  All of these will inflate our numbers relative to the work of others, but I think this setup is preferable for the problem at hand.\n",
    "\n",
    "Also, you have noticed the arguably strange choice I am making to discuss French texts using English examples.  The technical aspects I have written below are language agnostic and are not built to be applied only to French works.  As such, I would like to make our discussion as broadly relatable as possible and not presume any French knowledge on your behalf.\n"
   ]
  },
  {
   "cell_type": "markdown",
   "metadata": {},
   "source": [
    "<a id='source'></a><h2>Data Source and Text Extraction</h2>\n",
    "\n",
    "We will be using epub files acquired from <a href='https://www.gutenberg.org/' target='_blank'>Project Gutenberg</a>.  So, to begin we will setup our environment and write some functions that leverage the EbookLib and Beautiful Soup libraries to convert our epubs into strings. Note: Project Gutenberg does provide plain text files if you would like to skip this step."
   ]
  },
  {
   "cell_type": "code",
   "execution_count": 13,
   "metadata": {},
   "outputs": [],
   "source": [
    "#environment setup\n",
    "import ebooklib\n",
    "from ebooklib import epub\n",
    "from bs4 import BeautifulSoup\n",
    "import unicodedata\n",
    "from collections import Counter\n",
    "import io"
   ]
  },
  {
   "cell_type": "code",
   "execution_count": 14,
   "metadata": {},
   "outputs": [],
   "source": [
    "#using ebooklib to parse the epub files\n",
    "def epubHtml(epub_path):\n",
    "    book = epub.read_epub(epub_path)\n",
    "    chapters = []\n",
    "    for item in book.get_items():\n",
    "        if item.get_type() == ebooklib.ITEM_DOCUMENT:\n",
    "            chapters.append(item.get_content())\n",
    "    return chapters"
   ]
  },
  {
   "cell_type": "code",
   "execution_count": 15,
   "metadata": {},
   "outputs": [],
   "source": [
    "#sections of the document we don't want to include in our text output\n",
    "blacklist = ['noscript','[document]','header','head','html','script','meta','input']"
   ]
  },
  {
   "cell_type": "code",
   "execution_count": 16,
   "metadata": {},
   "outputs": [],
   "source": [
    "#to be used incrementally in the htmlText function,using beautiful soup to parse the html that the epubHTML function yields\n",
    "def chaptersText(chapters):\n",
    "    output = ''\n",
    "    soup = BeautifulSoup(chapters, 'html.parser')\n",
    "    text = soup.find_all(text=True)\n",
    "    for t in text:\n",
    "        if t.parent.name not in blacklist:\n",
    "            output += '{} '.format(t)\n",
    "    return output"
   ]
  },
  {
   "cell_type": "code",
   "execution_count": 17,
   "metadata": {},
   "outputs": [],
   "source": [
    "#process the above result into array of text and return as a single string\n",
    "def htmlText(html):\n",
    "    components = []\n",
    "    for html in html:\n",
    "        text =  chaptersText(html)\n",
    "        components.append(text)\n",
    "    text_string = ' '.join(components)\n",
    "    return text_string"
   ]
  },
  {
   "cell_type": "code",
   "execution_count": 18,
   "metadata": {},
   "outputs": [],
   "source": [
    "#just combine the above into a one step application\n",
    "def epubText(epub_path):\n",
    "    chapters = epubHtml(epub_path)\n",
    "    text = htmlText(chapters)\n",
    "    return text"
   ]
  },
  {
   "cell_type": "code",
   "execution_count": 19,
   "metadata": {},
   "outputs": [],
   "source": [
    "#now apply to all of our texts\n",
    "voltaire_raw = epubText('Candide, ou, loptimisme by Voltaire.epub')\n",
    "proust_raw = epubText('Du côté de chez Swann by Marcel Proust.epub')\n",
    "gard_raw = epubText('Jean Barois by Roger Martin du Gard.epub')\n",
    "rolland_raw = epubText('Jean-Christophe Volume 1 by Romain Rolland.epub')\n",
    "flaubert_raw = epubText('Madame Bovary by Gustave Flaubert.epub')\n",
    "hugo_raw = epubText('Notre-Dame de Paris by Victor Hugo.epub')\n",
    "france_raw = epubText('Thaïs by Anatole France.epub')\n",
    "maupassant_raw = epubText('Une vie by Guy de Maupassant.epub')"
   ]
  },
  {
   "cell_type": "markdown",
   "metadata": {},
   "source": [
    "While we have finished parsing our epub files into a more useable format, if we look at one of our results,\n",
    "\n",
    "\n",
    "\n",
    "\n",
    "\n"
   ]
  },
  {
   "cell_type": "code",
   "execution_count": 20,
   "metadata": {},
   "outputs": [
    {
     "data": {
      "text/plain": [
       "\"The Project Gutenberg EBook of Candide, by Voltaire This eBook is for the use of anyone anywhere in the United States and most other parts of the world at no cost and with almost no restrictions whatsoever.\\xa0 You may copy it, give it away or re-use it under the terms of the Project Gutenberg License included with this eBook or online at www.gutenberg.org.\\xa0 If you are not located in the United States, you'll have to check the laws of the country where you are located before using this ebook. Title: Candide \\xa0\\xa0\\xa0\\xa0\\xa0\\xa0 ou L'optimisme Author: Voltaire Release Date: July 5, 2019 [EBook #59859] Language: French *** START OF THIS PROJECT GUTENBERG EBOOK CANDIDE *** Produced by Laura Natal Rodrigues at Free Literature (Images generously made available by Gallica, Bibliothèque nationale de France.) \\n CANDIDE OU L'OPTIMISME \\n VOLTAIRE \\n Préface de Francisque Sarcey \\n Illustrations de Adrien Moreau \\n Librairie Artistique—G. Boudet, Éditeur \\n 197, Boulevard Saint-Germain, 197 \\n 1893 \\n \\n \\n TABLE \\n PRÉFA\""
      ]
     },
     "execution_count": 20,
     "metadata": {},
     "output_type": "execute_result"
    }
   ],
   "source": [
    "voltaire_raw[0:1000]"
   ]
  },
  {
   "cell_type": "markdown",
   "metadata": {},
   "source": [
    "we find that there are numerous items that we don't want to include in our analysis, e.g., '\\n', '\\xa0'.  We will clean the text in the next section."
   ]
  },
  {
   "cell_type": "markdown",
   "metadata": {},
   "source": [
    "<a id='clean'></a><h2>Text Cleaning</h2>\n",
    "\n",
    "The cleaning tasks are fairly routine and we will combine them into one function.  In addition, we will convert our single string for each text into an array of tokens, which will better suit our needs."
   ]
  },
  {
   "cell_type": "code",
   "execution_count": 21,
   "metadata": {},
   "outputs": [],
   "source": [
    "#need a function that will clean the text and will consist of numerous small tasks\n",
    "#return as tokens, i.e., array of inidividual words\n",
    "def cleanText(text):\n",
    "    #unicode encoding has a lot of unwanted elements for our purposes\n",
    "    text = unicodedata.normalize(\"NFKD\", text)\n",
    "    \n",
    "    #normalize entries\n",
    "    text = text.lower()\n",
    "    \n",
    "    #remove punctuation and other hardcoded items\n",
    "    want_removed = ['\\n','•','.',':','(',')',',','!',';','«','»','—','–','?','©' ]\n",
    "    for elem in want_removed:\n",
    "        text = text.replace(elem, ' ')\n",
    "    \n",
    "    #establsih tokens\n",
    "    tokens = text.split(' ')\n",
    "    \n",
    "    #remove empty elements\n",
    "    tokens = [i for i in tokens if i] \n",
    "    \n",
    "    return tokens"
   ]
  },
  {
   "cell_type": "code",
   "execution_count": 22,
   "metadata": {},
   "outputs": [],
   "source": [
    "#and apply to each of our texts\n",
    "voltaire_clean = cleanText(voltaire_raw)\n",
    "proust_clean = cleanText(proust_raw)\n",
    "gard_clean = cleanText(gard_raw)\n",
    "rolland_clean = cleanText(rolland_raw)\n",
    "flaubert_clean = cleanText(flaubert_raw)\n",
    "hugo_clean = cleanText(hugo_raw)\n",
    "france_clean = cleanText(france_raw)\n",
    "maupassant_clean = cleanText(maupassant_raw)"
   ]
  },
  {
   "cell_type": "markdown",
   "metadata": {},
   "source": [
    "And, our texts now have the form:"
   ]
  },
  {
   "cell_type": "code",
   "execution_count": 39,
   "metadata": {},
   "outputs": [
    {
     "data": {
      "text/plain": [
       "['the',\n",
       " 'project',\n",
       " 'gutenberg',\n",
       " 'ebook',\n",
       " 'of',\n",
       " 'candide',\n",
       " 'by',\n",
       " 'voltaire',\n",
       " 'this',\n",
       " 'ebook',\n",
       " 'is',\n",
       " 'for',\n",
       " 'the',\n",
       " 'use',\n",
       " 'of',\n",
       " 'anyone',\n",
       " 'anywhere',\n",
       " 'in',\n",
       " 'the',\n",
       " 'united']"
      ]
     },
     "execution_count": 39,
     "metadata": {},
     "output_type": "execute_result"
    }
   ],
   "source": [
    "voltaire_clean[0:20]"
   ]
  },
  {
   "cell_type": "markdown",
   "metadata": {},
   "source": [
    "Note: I have kept the Project Gutenburg preamble.  If it affects our results substantially, we will make the correction."
   ]
  },
  {
   "cell_type": "markdown",
   "metadata": {},
   "source": [
    "<a id='stats'></a><h2>Descriptive Statistics</h2>\n",
    "\n",
    "The primary considerations for this task are the number of unique words within each text, the number of these that occur once (and hence are not as valuable to commit to memory, at least on a first pass), and the relative coverage of the text.  As such, let's inspect these explicitly."
   ]
  },
  {
   "cell_type": "code",
   "execution_count": 24,
   "metadata": {},
   "outputs": [],
   "source": [
    "#collect our descriptive statistics\n",
    "def stats(tokens):\n",
    "    results = {}\n",
    "    c = Counter(tokens)\n",
    "    \n",
    "    #also want to differentiate those words that aren't and are a single instance\n",
    "    c_focused = Counter({k: c for k, c in c.items() if c >= 2})\n",
    "    c_single = Counter({k: c for k, c in c.items() if c == 1})\n",
    "    \n",
    "    results['Total words in text'] = sum(c.values())\n",
    "    results['Unique words in text'] = len(list(c))\n",
    "    results['Unique words that occur more than once'] = len(c_focused)\n",
    "    results['Unique words that occur exactly once'] = len(c_single)\n",
    "    results['Text coverage of words that occur more than once'] = sum(c_focused.values())/sum(c.values())\n",
    "    results['Text coverage of words that occur exactly once'] = sum(c_single.values())/sum(c.values())\n",
    "    \n",
    "    return results"
   ]
  },
  {
   "cell_type": "code",
   "execution_count": 25,
   "metadata": {},
   "outputs": [
    {
     "data": {
      "text/plain": [
       "{'Total words in text': 38617,\n",
       " 'Unique words in text': 6855,\n",
       " 'Unique words that occur more than once': 2916,\n",
       " 'Unique words that occur exactly once': 3939,\n",
       " 'Text coverage of words that occur more than once': 0.8979982909081493,\n",
       " 'Text coverage of words that occur exactly once': 0.10200170909185075}"
      ]
     },
     "execution_count": 25,
     "metadata": {},
     "output_type": "execute_result"
    }
   ],
   "source": [
    "stats(voltaire_clean)"
   ]
  },
  {
   "cell_type": "code",
   "execution_count": 26,
   "metadata": {},
   "outputs": [
    {
     "data": {
      "text/plain": [
       "{'Total words in text': 130782,\n",
       " 'Unique words in text': 13833,\n",
       " 'Unique words that occur more than once': 6838,\n",
       " 'Unique words that occur exactly once': 6995,\n",
       " 'Text coverage of words that occur more than once': 0.9465140462754813,\n",
       " 'Text coverage of words that occur exactly once': 0.05348595372451866}"
      ]
     },
     "execution_count": 26,
     "metadata": {},
     "output_type": "execute_result"
    }
   ],
   "source": [
    "stats(rolland_clean)"
   ]
  },
  {
   "cell_type": "markdown",
   "metadata": {},
   "source": [
    "This demonstrates that both the number of unique words is substantially smaller than the overall size of the text (which is not very surprising) and that words that occur more than once provide a substantial portion of the actual text.  It is this latter point that sits at the heart of this project.  By focusing on repeated-use words, we can minimize our initial effort while ensuring that we have a robust context for the text.  With a solid understanding of most of the text by volume, we free ourselves to lookup individual words as we read to understand the ideas expressed, without having to spend the time committing them all to memory.\n",
    "\n",
    "To better understand how these ideas manifest across all of the texts invidually, let's setup some visualizations."
   ]
  },
  {
   "cell_type": "code",
   "execution_count": 27,
   "metadata": {},
   "outputs": [],
   "source": [
    "#we will setup a dataframe in which to record our measures of interest\n",
    "import pandas as pd\n",
    "import numpy as np"
   ]
  },
  {
   "cell_type": "code",
   "execution_count": 28,
   "metadata": {},
   "outputs": [],
   "source": [
    "#i should do this via functions to automate so I can scale in the future, but it's small enough here to do by hand\n",
    "texts_stats_dict = {'Author': ['Voltaire', 'Proust', 'Gard', 'Rolland', 'Flaubert', 'Hugo', 'France','Maupassant'], \n",
    "                    'Total_Words': [38617 ,170152 ,105049 ,130782 ,114452 ,176017 ,53676 ,75317 ],\n",
    "                    'Unique_Words': [6855 ,17661 ,13237 ,13833 ,15295 ,19440 ,9255 ,10862 ],\n",
    "                    'Multiple_Occurence': [2916 ,8221 ,6303 ,6838 ,7127 ,9391 ,4083,4977 ],\n",
    "                    'Text_Coverage': [0.898 ,0.945 ,0.934 ,0.947 ,0.929 ,0.943 ,0.904 ,0.922 ]\n",
    "                   }\n",
    "\n",
    "texts_stats = pd.DataFrame(data=texts_stats_dict)"
   ]
  },
  {
   "cell_type": "code",
   "execution_count": 29,
   "metadata": {},
   "outputs": [
    {
     "data": {
      "text/html": [
       "<div>\n",
       "<style scoped>\n",
       "    .dataframe tbody tr th:only-of-type {\n",
       "        vertical-align: middle;\n",
       "    }\n",
       "\n",
       "    .dataframe tbody tr th {\n",
       "        vertical-align: top;\n",
       "    }\n",
       "\n",
       "    .dataframe thead th {\n",
       "        text-align: right;\n",
       "    }\n",
       "</style>\n",
       "<table border=\"1\" class=\"dataframe\">\n",
       "  <thead>\n",
       "    <tr style=\"text-align: right;\">\n",
       "      <th></th>\n",
       "      <th>Author</th>\n",
       "      <th>Total_Words</th>\n",
       "      <th>Unique_Words</th>\n",
       "      <th>Multiple_Occurence</th>\n",
       "      <th>Text_Coverage</th>\n",
       "    </tr>\n",
       "  </thead>\n",
       "  <tbody>\n",
       "    <tr>\n",
       "      <th>0</th>\n",
       "      <td>Voltaire</td>\n",
       "      <td>38617</td>\n",
       "      <td>6855</td>\n",
       "      <td>2916</td>\n",
       "      <td>0.898</td>\n",
       "    </tr>\n",
       "    <tr>\n",
       "      <th>1</th>\n",
       "      <td>Proust</td>\n",
       "      <td>170152</td>\n",
       "      <td>17661</td>\n",
       "      <td>8221</td>\n",
       "      <td>0.945</td>\n",
       "    </tr>\n",
       "    <tr>\n",
       "      <th>2</th>\n",
       "      <td>Gard</td>\n",
       "      <td>105049</td>\n",
       "      <td>13237</td>\n",
       "      <td>6303</td>\n",
       "      <td>0.934</td>\n",
       "    </tr>\n",
       "    <tr>\n",
       "      <th>3</th>\n",
       "      <td>Rolland</td>\n",
       "      <td>130782</td>\n",
       "      <td>13833</td>\n",
       "      <td>6838</td>\n",
       "      <td>0.947</td>\n",
       "    </tr>\n",
       "    <tr>\n",
       "      <th>4</th>\n",
       "      <td>Flaubert</td>\n",
       "      <td>114452</td>\n",
       "      <td>15295</td>\n",
       "      <td>7127</td>\n",
       "      <td>0.929</td>\n",
       "    </tr>\n",
       "    <tr>\n",
       "      <th>5</th>\n",
       "      <td>Hugo</td>\n",
       "      <td>176017</td>\n",
       "      <td>19440</td>\n",
       "      <td>9391</td>\n",
       "      <td>0.943</td>\n",
       "    </tr>\n",
       "    <tr>\n",
       "      <th>6</th>\n",
       "      <td>France</td>\n",
       "      <td>53676</td>\n",
       "      <td>9255</td>\n",
       "      <td>4083</td>\n",
       "      <td>0.904</td>\n",
       "    </tr>\n",
       "    <tr>\n",
       "      <th>7</th>\n",
       "      <td>Maupassant</td>\n",
       "      <td>75317</td>\n",
       "      <td>10862</td>\n",
       "      <td>4977</td>\n",
       "      <td>0.922</td>\n",
       "    </tr>\n",
       "  </tbody>\n",
       "</table>\n",
       "</div>"
      ],
      "text/plain": [
       "       Author  Total_Words  Unique_Words  Multiple_Occurence  Text_Coverage\n",
       "0    Voltaire        38617          6855                2916          0.898\n",
       "1      Proust       170152         17661                8221          0.945\n",
       "2        Gard       105049         13237                6303          0.934\n",
       "3     Rolland       130782         13833                6838          0.947\n",
       "4    Flaubert       114452         15295                7127          0.929\n",
       "5        Hugo       176017         19440                9391          0.943\n",
       "6      France        53676          9255                4083          0.904\n",
       "7  Maupassant        75317         10862                4977          0.922"
      ]
     },
     "execution_count": 29,
     "metadata": {},
     "output_type": "execute_result"
    }
   ],
   "source": [
    "texts_stats"
   ]
  },
  {
   "cell_type": "code",
   "execution_count": 30,
   "metadata": {},
   "outputs": [
    {
     "data": {
      "image/png": "[encoded data removed]",
      "text/plain": [
       "<Figure size 720x504 with 1 Axes>"
      ]
     },
     "metadata": {
      "needs_background": "light"
     },
     "output_type": "display_data"
    }
   ],
   "source": [
    "hist = texts_stats.plot.bar(x='Author', y=['Unique_Words','Multiple_Occurence'], rot=0, figsize=(10,7), title='Multiple Occurence Words Relative to Unique Words')"
   ]
  },
  {
   "cell_type": "code",
   "execution_count": 31,
   "metadata": {},
   "outputs": [
    {
     "data": {
      "image/png": "[encoded data removed]",
      "text/plain": [
       "<Figure size 720x504 with 1 Axes>"
      ]
     },
     "metadata": {
      "needs_background": "light"
     },
     "output_type": "display_data"
    }
   ],
   "source": [
    "hist = texts_stats.plot.bar(x='Author', y='Text_Coverage', rot=0, figsize=(10,7), legend=False, title = 'Text Coverage of Multiple Occurence Words')"
   ]
  },
  {
   "cell_type": "code",
   "execution_count": 32,
   "metadata": {},
   "outputs": [
    {
     "data": {
      "image/png": "[encoded data removed]",
      "text/plain": [
       "<Figure size 720x504 with 1 Axes>"
      ]
     },
     "metadata": {
      "needs_background": "light"
     },
     "output_type": "display_data"
    }
   ],
   "source": [
    "hist = texts_stats.plot.bar(x='Author', y='Text_Coverage', rot=0, figsize=(10,7), legend=False, ylim=(0.8,1.0), title = 'Text Coverage of Multiple Occurence Words: Rescaled')"
   ]
  },
  {
   "cell_type": "markdown",
   "metadata": {},
   "source": [
    "So, we have found that if we focus our attention on solidfying our recognition of words that occur more than once in the text, we will always have at least 90% coverage of the text.  "
   ]
  },
  {
   "cell_type": "markdown",
   "metadata": {},
   "source": [
    "<a id='common'></a><h2>Most Common Words</h2>\n",
    "\n",
    "Based on the previous section, we now have some substantiation that our approach is tenable.  As such, we can view the unique words in our text, in descending order of their counts:"
   ]
  },
  {
   "cell_type": "code",
   "execution_count": 40,
   "metadata": {},
   "outputs": [
    {
     "data": {
      "text/plain": [
       "[('de', 1506),\n",
       " ('et', 1042),\n",
       " ('le', 818),\n",
       " ('la', 785),\n",
       " ('à', 690),\n",
       " ('les', 614),\n",
       " ('que', 529),\n",
       " ('il', 466),\n",
       " ('un', 464),\n",
       " ('candide', 434)]"
      ]
     },
     "execution_count": 40,
     "metadata": {},
     "output_type": "execute_result"
    }
   ],
   "source": [
    "#taking most_common without an argument is a quick way to sort the results\n",
    "Counter(voltaire_clean).most_common(10)"
   ]
  },
  {
   "cell_type": "markdown",
   "metadata": {},
   "source": [
    "The Voltaire text contains 2916 unique words that occur more than once.  This is certainly not a small number to try and tackle.  However, there are a few considerations to which it is worth drawing our attention.  First, as a reminder, these are individual instances and not word families, so many of these entries are very closely connected.  Second, many of these entries wouldn't pose a problem for someone experienced with the language, e.g. low-level vocabulary, latin numerals, singular and plural forms being listed as distinct, so the amount to learn is much smaller than the raw count indicates.  Finally, as the above indicates many of the most frequent words are, naturally, very common articles, prepositions, etc.  If we visualize the cumulative sum of all the words:"
   ]
  },
  {
   "cell_type": "code",
   "execution_count": 34,
   "metadata": {},
   "outputs": [
    {
     "data": {
      "text/plain": [
       "<AxesSubplot:>"
      ]
     },
     "execution_count": 34,
     "metadata": {},
     "output_type": "execute_result"
    },
    {
     "data": {
      "image/png": "[encoded data removed]",
      "text/plain": [
       "<Figure size 432x288 with 1 Axes>"
      ]
     },
     "metadata": {
      "needs_background": "light"
     },
     "output_type": "display_data"
    }
   ],
   "source": [
    "data = Counter(voltaire_clean).most_common()\n",
    "df = pd.DataFrame(data, columns =['word', 'occurence'])\n",
    "df.sort_index().cumsum().plot()"
   ]
  },
  {
   "cell_type": "markdown",
   "metadata": {},
   "source": [
    "we can see that the first 1000 entries contribute about 75% of the total coverage.  If one is ready to tackle French literature in French, a quick read-through of the given list will very quickly cull it down to a more manageable task (a very simple function that checks inclusion in the list based on a blacklist of words you are comfortable with would be simple enough to write, if you were so inclined).  How many of those words one should tackle before diving into the text is, by necessity, up to you.  And, certainly, how to actually learn and remember the words we have flagged as priority is not task I am qualified to give advice on; my guess is patience and repetition."
   ]
  },
  {
   "cell_type": "markdown",
   "metadata": {},
   "source": [
    "<a id='corpus'></a><h2>The Entire Corpus</h2>\n",
    "\n",
    "Out of curiosity, I would also like to view our descriptive statistics as they relate to the entire corpus of our eight works."
   ]
  },
  {
   "cell_type": "code",
   "execution_count": 35,
   "metadata": {},
   "outputs": [],
   "source": [
    "corpus = voltaire_clean + proust_clean + gard_clean + rolland_clean + flaubert_clean + hugo_clean + france_clean + maupassant_clean "
   ]
  },
  {
   "cell_type": "code",
   "execution_count": 36,
   "metadata": {},
   "outputs": [
    {
     "data": {
      "text/plain": [
       "{'Total words in text': 864062,\n",
       " 'Unique words in text': 45275,\n",
       " 'Unique words that occur more than once': 26094,\n",
       " 'Unique words that occur exactly once': 19181,\n",
       " 'Text coverage of words that occur more than once': 0.9778013614763755,\n",
       " 'Text coverage of words that occur exactly once': 0.022198638523624463}"
      ]
     },
     "execution_count": 36,
     "metadata": {},
     "output_type": "execute_result"
    }
   ],
   "source": [
    "stats(corpus)"
   ]
  },
  {
   "cell_type": "markdown",
   "metadata": {},
   "source": [
    "It is interesting to note that the largest number of unique words for any single text was 19440 (Hugo) and for the entire corpus this figure has more than doubled.  I think this demonstrates significantly different lexicons employed by the authors, much of which might be explained by the time differences between the texts' production.  I would enjoy seeing this fleshed out.  \n",
    "\n",
    "I think it is also interesting that the coverage of the corpus by words that occur more than once is a few percentage points higher than any of the individual texts.  This must indicate that the specialized language employed in one text (i.e. single occurence words) is not so specialized on a larger scale.  I suppose this is somewhat obvious, but I think there is still room to explore how those single instance words in one text are used across multiple texts, comparing the various intentions of doing so, and elucidating what kinds of words actually serve this function."
   ]
  },
  {
   "cell_type": "markdown",
   "metadata": {},
   "source": [
    "<a id='saving'></a><h2>Saving Your Results</h2>\n",
    "\n",
    "To end this project, I would like to provide a simple function to export the unique words that occur more than once, without their counts, so that we have a document we can print or reference, as needed."
   ]
  },
  {
   "cell_type": "code",
   "execution_count": 37,
   "metadata": {},
   "outputs": [],
   "source": [
    "#to be able to save the nonsingle instance words, without the counts\n",
    "def get_multiple(tokens):\n",
    "    c = Counter(tokens)\n",
    "    c_focused = Counter({k: c for k, c in c.items() if c >= 2})\n",
    "    c_sorted = c_focused.most_common()\n",
    "    result = [x[0] for x in c_sorted]\n",
    "    return result"
   ]
  },
  {
   "cell_type": "code",
   "execution_count": 38,
   "metadata": {},
   "outputs": [],
   "source": [
    "#save to text file\n",
    "vocab = get_multiple(voltaire_clean)\n",
    "\n",
    "#feel free to choose your own delimiter; I chose the simple option of copious white space\n",
    "vocab_string = '    '.join(vocab)\n",
    "with io.open('voltaire_vocab.txt', 'w', encoding='utf8') as file:\n",
    "    file.write(vocab_string)"
   ]
  },
  {
   "cell_type": "markdown",
   "metadata": {},
   "source": [
    "Happy languaging!"
   ]
  }
 ],
 "metadata": {
  "kernelspec": {
   "display_name": "Python 3",
   "language": "python",
   "name": "python3"
  },
  "language_info": {
   "codemirror_mode": {
    "name": "ipython",
    "version": 3
   },
   "file_extension": ".py",
   "mimetype": "text/x-python",
   "name": "python",
   "nbconvert_exporter": "python",
   "pygments_lexer": "ipython3",
   "version": "3.7.9"
  }
 },
 "nbformat": 4,
 "nbformat_minor": 4
}
